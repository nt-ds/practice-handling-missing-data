{
 "cells": [
  {
   "cell_type": "code",
   "execution_count": 1,
   "metadata": {},
   "outputs": [],
   "source": [
    "from sklearn.ensemble import RandomForestRegressor\n",
    "from sklearn.metrics import mean_absolute_error"
   ]
  },
  {
   "cell_type": "code",
   "execution_count": 2,
   "metadata": {},
   "outputs": [],
   "source": [
    "def mean_abs_error(X_train, X_test, y_train, y_test):\n",
    "    model = RandomForestRegressor(n_estimators=100, criterion=\"mae\", random_state=123)\n",
    "    model.fit(X_train, y_train)\n",
    "    training_preds = model.predict(X_train)\n",
    "    test_preds = model.predict(X_test)\n",
    "    mae_training = mean_absolute_error(y_train, training_preds)\n",
    "    mae_test = mean_absolute_error(y_test, test_preds)\n",
    "    print(f\"Mean absolute error (training): {mae_training}\")\n",
    "    print(f\"Mean absolute error (test):     {mae_test}\")\n",
    "    return mae_test"
   ]
  }
 ],
 "metadata": {
  "kernelspec": {
   "display_name": "Python 3",
   "language": "python",
   "name": "python3"
  },
  "language_info": {
   "codemirror_mode": {
    "name": "ipython",
    "version": 3
   },
   "file_extension": ".py",
   "mimetype": "text/x-python",
   "name": "python",
   "nbconvert_exporter": "python",
   "pygments_lexer": "ipython3",
   "version": "3.7.3"
  }
 },
 "nbformat": 4,
 "nbformat_minor": 2
}
