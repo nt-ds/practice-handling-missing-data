{
 "cells": [
  {
   "cell_type": "code",
   "execution_count": 1,
   "metadata": {},
   "outputs": [],
   "source": [
    "import os\n",
    "from pathlib import Path"
   ]
  },
  {
   "cell_type": "code",
   "execution_count": 2,
   "metadata": {},
   "outputs": [],
   "source": [
    "class ChangeDirectory:\n",
    "    def __init__(self):\n",
    "        self.MAIN_DIR = os.getcwd()\n",
    "        \n",
    "    def change_to_src_models_dir(self):\n",
    "        parent_path = Path(self.MAIN_DIR).parent\n",
    "        data_path = str(parent_path) + \"/src/models\"\n",
    "        os.chdir(data_path)\n",
    "        \n",
    "    def change_to_data_dir(self):\n",
    "        parent_path = Path(self.MAIN_DIR).parent\n",
    "        data_path = str(parent_path) + \"/data\"\n",
    "        os.chdir(data_path)\n",
    "        \n",
    "    def change_to_model_dir(self):\n",
    "        parent_path = Path(self.MAIN_DIR).parent\n",
    "        data_path = str(parent_path) + \"/models\"\n",
    "        os.chdir(data_path)\n",
    "        \n",
    "    def change_to_notebook_dir(self):\n",
    "        os.chdir(self.MAIN_DIR)"
   ]
  }
 ],
 "metadata": {
  "kernelspec": {
   "display_name": "Python 3",
   "language": "python",
   "name": "python3"
  },
  "language_info": {
   "codemirror_mode": {
    "name": "ipython",
    "version": 3
   },
   "file_extension": ".py",
   "mimetype": "text/x-python",
   "name": "python",
   "nbconvert_exporter": "python",
   "pygments_lexer": "ipython3",
   "version": "3.7.3"
  }
 },
 "nbformat": 4,
 "nbformat_minor": 2
}
